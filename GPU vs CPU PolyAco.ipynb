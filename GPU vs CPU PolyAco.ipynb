{
 "cells": [
  {
   "cell_type": "markdown",
   "metadata": {},
   "source": [
    "# GPU vs CPU on PolyACO\n"
   ]
  },
  {
   "cell_type": "code",
   "execution_count": 26,
   "metadata": {
    "collapsed": false
   },
   "outputs": [
    {
     "data": {
      "image/png": "[encoded data removed]",
      "text/plain": [
       "<matplotlib.figure.Figure at 0x11fae5240>"
      ]
     },
     "metadata": {},
     "output_type": "display_data"
    }
   ],
   "source": [
    "%matplotlib inline\n",
    "import matplotlib\n",
    "import numpy as np\n",
    "import pickle\n",
    "from matplotlib import pyplot as plt\n",
    "\n",
    "from acoc import acoc_plotter \n",
    "\n",
    "\n",
    "fig, ax = plt.subplots()\n",
    "\n",
    "d = pickle.load(open('/Users/torrytufteland/Dropbox/Guro og Torry/experiments/Guro/experiments_tests/gpu_cpu_preformanceSpeed_BIG/results.pickle', 'rb'))\n",
    "d = d[0].T\n",
    "performance_gain = d[1] / d[0]\n",
    "\n",
    "xpoints = np.array([(i+1) * 10 for i in range(10)])\n",
    "plt.plot(xpoints, performance_gain, color='#0097E8')\n",
    "ax.yaxis.grid(color='gray')\n",
    "acoc_plotter.hide_top_and_right_axis(ax)\n",
    "\n",
    "plt.xlabel(r'Grid granularity ($\\mu$)')\n",
    "plt.ylabel('CPython / GPU')\n",
    "\n",
    "plt.show()\n",
    "fig.savefig('performance_gain.eps')"
   ]
  },
  {
   "cell_type": "markdown",
   "metadata": {},
   "source": [
    "## Profiling of CPU implementation with high granularity\n",
    "\n",
    "* Granularity: 100\n",
    "* Time: 200 seconds per ant\n",
    "* 5 total runs"
   ]
  },
  {
   "cell_type": "code",
   "execution_count": 40,
   "metadata": {
    "collapsed": false,
    "scrolled": false
   },
   "outputs": [
    {
     "name": "stdout",
     "output_type": "stream",
     "text": [
      "Mon Feb 15 22:36:54 2016    /Users/torrytufteland/Dropbox/Guro og Torry/Master/profiling/2/gpu_granularity_100.pstat\n",
      "\n",
      "         711163795 function calls (711116921 primitive calls) in 780.363 seconds\n",
      "\n",
      "   Ordered by: cumulative time\n",
      "   List reduced from 5319 to 40 due to restriction <40>\n",
      "\n",
      "   ncalls  tottime  percall  cumtime  percall filename:lineno(function)\n",
      "        1    0.000    0.000  780.366  780.366 _pydev_execfile.py:2(execfile)\n",
      "    838/1    0.056    0.000  780.365  780.365 {built-in method builtins.exec}\n",
      "        1    0.000    0.000  780.365  780.365 main.py:3(<module>)\n",
      "        5    0.011    0.002  778.493  155.699 main.py:38(run)\n",
      "        5    0.281    0.056  778.116  155.623 __init__.py:127(classify)\n",
      "   138224    1.845    0.000  536.599    0.004 ant.py:18(move_ant)\n",
      "   138224  107.520    0.001  520.618    0.004 ant.py:22(<listcomp>)\n",
      "228189420  133.640    0.000  413.760    0.000 edge.py:10(__eq__)\n",
      "228616206  162.981    0.000  280.931    0.000 vertex.py:11(__eq__)\n",
      "        5    0.058    0.012  228.098   45.620 acoc_matrix.py:15(__init__)\n",
      "        5    0.747    0.149  227.783   45.557 acoc_matrix.py:88(create_edges)\n",
      "241358347  117.950    0.000  117.950    0.000 {built-in method math.isclose}\n",
      "    50000  112.412    0.002  112.412    0.002 acoc_matrix.py:92(<listcomp>)\n",
      "    50000  112.268    0.002  112.268    0.002 acoc_matrix.py:97(<listcomp>)\n",
      "   138357   16.100    0.000   17.040    0.000 {method 'choice' of 'mtrand.RandomState' objects}\n",
      "      241    0.020    0.000    9.622    0.040 __init__.py:32(get_random_weighted)\n",
      "   138357    0.894    0.000    3.019    0.000 __init__.py:65(normalize)\n",
      "        7    0.001    0.000    2.295    0.328 __init__.py:3(<module>)\n",
      "   114059    1.535    0.000    2.212    0.000 {built-in method builtins.min}\n",
      "   276714    0.207    0.000    2.125    0.000 {method 'sum' of 'numpy.ndarray' objects}\n",
      "   276980    0.176    0.000    1.933    0.000 _methods.py:31(_sum)\n",
      "    785/8    0.008    0.000    1.884    0.236 <frozen importlib._bootstrap>:966(_find_and_load)\n",
      "    785/8    0.006    0.000    1.884    0.236 <frozen importlib._bootstrap>:939(_find_and_load_unlocked)\n",
      "    697/8    0.006    0.000    1.882    0.235 <frozen importlib._bootstrap>:659(_load_unlocked)\n",
      "    601/8    0.004    0.000    1.881    0.235 <frozen importlib._bootstrap_external>:656(exec_module)\n",
      "   1046/8    0.002    0.000    1.880    0.235 <frozen importlib._bootstrap>:214(_call_with_frames_removed)\n",
      "   281577    1.780    0.000    1.780    0.000 {method 'reduce' of 'numpy.ufunc' objects}\n",
      "   567/58    0.003    0.000    1.697    0.029 {built-in method builtins.__import__}\n",
      " 3240/696    0.005    0.000    1.668    0.002 <frozen importlib._bootstrap>:996(_handle_fromlist)\n",
      "     2302    1.664    0.001    1.666    0.001 driver.py:219(safe_cuda_api_call)\n",
      "      133    0.003    0.000    1.566    0.012 __init__.py:224(score)\n",
      "      133    0.006    0.000    1.537    0.012 __init__.py:64(cost_function_gpu)\n",
      "      271    0.001    0.000    1.351    0.005 devices.py:254(_require_cuda_context)\n",
      "      133    0.001    0.000    1.125    0.008 compiler.py:568(__call__)\n",
      "      810    0.001    0.000    1.041    0.001 devices.py:235(get_context)\n",
      "      810    0.002    0.000    1.040    0.001 devices.py:194(get_or_create_context)\n",
      "   142897    1.038    0.000    1.038    0.000 {built-in method numpy.core.multiarray.array}\n",
      "   206261    0.231    0.000    1.018    0.000 {method 'remove' of 'list' objects}\n",
      "    20/19    0.000    0.000    0.979    0.052 driver.py:197(__getattr__)\n",
      "        1    0.000    0.000    0.977    0.977 devices.py:36(__getitem__)\n",
      "\n",
      "\n"
     ]
    },
    {
     "data": {
      "text/plain": [
       "<pstats.Stats at 0x1240d3cf8>"
      ]
     },
     "execution_count": 40,
     "metadata": {},
     "output_type": "execute_result"
    }
   ],
   "source": [
    "import re\n",
    "import pstats\n",
    "import sys\n",
    "import os.path as osp\n",
    "\n",
    "\n",
    "pf_file = '/Users/torrytufteland/Dropbox/Guro og Torry/Master/profiling/2/gpu_granularity_100.pstat'\n",
    "p = pstats.Stats(pf_file)\n",
    "p.strip_dirs().sort_stats('cumtime').print_stats(40)"
   ]
  },
  {
   "cell_type": "markdown",
   "metadata": {},
   "source": [
    "The profiling results show that when the granularity is high the bottleneck is no longer the cost function, but other parts of the algorithm instead."
   ]
  },
  {
   "cell_type": "code",
   "execution_count": null,
   "metadata": {
    "collapsed": true
   },
   "outputs": [],
   "source": []
  }
 ],
 "metadata": {
  "kernelspec": {
   "display_name": "Python 3",
   "language": "python",
   "name": "python3"
  },
  "language_info": {
   "codemirror_mode": {
    "name": "ipython",
    "version": 3
   },
   "file_extension": ".py",
   "mimetype": "text/x-python",
   "name": "python",
   "nbconvert_exporter": "python",
   "pygments_lexer": "ipython3",
   "version": "3.5.1"
  }
 },
 "nbformat": 4,
 "nbformat_minor": 0
}
