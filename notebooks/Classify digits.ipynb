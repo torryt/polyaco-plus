{
 "cells": [
  {
   "cell_type": "markdown",
   "metadata": {},
   "source": [
    "# Classifying digits dataset with PolyACO+"
   ]
  },
  {
   "cell_type": "code",
   "execution_count": 1,
   "metadata": {
    "collapsed": false
   },
   "outputs": [],
   "source": [
    "from sklearn import datasets, neighbors, linear_model\n",
    "from sklearn.cross_validation import train_test_split\n",
    "from sklearn.svm import SVC, LinearSVC\n",
    "\n",
    "import sys\n",
    "import os.path as osp\n",
    "import time\n",
    "sys.path.append(osp.dirname(osp.dirname(osp.abspath('__file__'))))\n",
    "\n",
    "import acoc\n",
    "import utils\n",
    "from utils import data_manager\n",
    "from config import CLASSIFIER_CONFIG"
   ]
  },
  {
   "cell_type": "code",
   "execution_count": 17,
   "metadata": {
    "collapsed": false
   },
   "outputs": [],
   "source": [
    "data_set = data_manager.load_data_set('breast_cancer')"
   ]
  },
  {
   "cell_type": "code",
   "execution_count": 18,
   "metadata": {
    "collapsed": false
   },
   "outputs": [],
   "source": [
    "X = data_set.data\n",
    "y = data_set.target\n",
    "X_train, X_test, y_train, y_test = train_test_split(X, y, test_size=0.33)\n",
    "\n",
    "class_indices = list(set(y))"
   ]
  },
  {
   "cell_type": "markdown",
   "metadata": {},
   "source": [
    "## SVM classification"
   ]
  },
  {
   "cell_type": "code",
   "execution_count": 13,
   "metadata": {
    "collapsed": false
   },
   "outputs": [
    {
     "name": "stdout",
     "output_type": "stream",
     "text": [
      "Classification score: 96.63716814159292\n"
     ]
    }
   ],
   "source": [
    "r = []\n",
    "for _ in range(10):\n",
    "    X_train, X_test, y_train, y_test = train_test_split(X, y, test_size=0.33)\n",
    "    clf = SVC(gamma=0.001)\n",
    "    clf.fit(X_train, y_train)\n",
    "    r.append(clf.score(X_test, y_test) * 100)\n",
    "print(\"Classification score: {}\".format(sum(r) / len(r)))"
   ]
  },
  {
   "cell_type": "markdown",
   "metadata": {},
   "source": [
    "### LinearSVM"
   ]
  },
  {
   "cell_type": "code",
   "execution_count": 12,
   "metadata": {
    "collapsed": false
   },
   "outputs": [
    {
     "name": "stdout",
     "output_type": "stream",
     "text": [
      "Classification score: 96.85398230088492\n"
     ]
    }
   ],
   "source": [
    "r = []\n",
    "for _ in range(100):\n",
    "    X_train, X_test, y_train, y_test = train_test_split(X, y, test_size=0.33)\n",
    "    clf = LinearSVC()\n",
    "    clf.fit(X_train, y_train)\n",
    "    r.append(clf.score(X_test, y_test) * 100)\n",
    "print(\"Classification score: {}\".format(sum(r) / len(r)))"
   ]
  },
  {
   "cell_type": "markdown",
   "metadata": {},
   "source": [
    "## Naive Bayes classification"
   ]
  },
  {
   "cell_type": "code",
   "execution_count": 20,
   "metadata": {
    "collapsed": false
   },
   "outputs": [
    {
     "name": "stdout",
     "output_type": "stream",
     "text": [
      "Classification score: 98.46464646464639\n"
     ]
    }
   ],
   "source": [
    "r = []\n",
    "for _ in range(100):\n",
    "    X_train, X_test, y_train, y_test = train_test_split(X, y, test_size=0.33)\n",
    "    clf = neighbors.KNeighborsClassifier()\n",
    "    clf.fit(X_train, y_train)\n",
    "    r.append(clf.score(X_test, y_test)*100)\n",
    "print(\"Classification score: {}\".format(sum(r) / len(r)))"
   ]
  },
  {
   "cell_type": "markdown",
   "metadata": {},
   "source": [
    "## Logistic regression"
   ]
  },
  {
   "cell_type": "code",
   "execution_count": 19,
   "metadata": {
    "collapsed": false
   },
   "outputs": [
    {
     "name": "stdout",
     "output_type": "stream",
     "text": [
      "Classification score: 96.4026548672566\n"
     ]
    }
   ],
   "source": [
    "r = []\n",
    "for _ in range(100):\n",
    "    X_train, X_test, y_train, y_test = train_test_split(X, y, test_size=0.33)\n",
    "    clf = linear_model.LogisticRegression()\n",
    "    clf.fit(X_train, y_train)\n",
    "    r.append(clf.score(X_test, y_test)*100)\n",
    "print(\"Classification score: {}\".format(sum(r) / len(r)))"
   ]
  },
  {
   "cell_type": "markdown",
   "metadata": {},
   "source": [
    "## PolyACO+ classification"
   ]
  },
  {
   "cell_type": "code",
   "execution_count": 26,
   "metadata": {
    "collapsed": false
   },
   "outputs": [],
   "source": [
    "CLASSIFIER_CONFIG.max_level = 3\n",
    "CLASSIFIER_CONFIG.level_convergence_rate = 2000"
   ]
  },
  {
   "cell_type": "code",
   "execution_count": null,
   "metadata": {
    "collapsed": false
   },
   "outputs": [],
   "source": [
    "clf = acoc.PolyACO(X.shape[1], class_indices, CLASSIFIER_CONFIG)\n",
    "clf.train(X_train, y_train)\n",
    "predictions = clf.evaluate(X_test)\n",
    "print(\"\\rClassification score: {}\".format(acoc.compute_score(predictions, y_test)))"
   ]
  }
 ],
 "metadata": {
  "kernelspec": {
   "display_name": "Python 3",
   "language": "python",
   "name": "python3"
  },
  "language_info": {
   "codemirror_mode": {
    "name": "ipython",
    "version": 3
   },
   "file_extension": ".py",
   "mimetype": "text/x-python",
   "name": "python",
   "nbconvert_exporter": "python",
   "pygments_lexer": "ipython3",
   "version": "3.5.1"
  }
 },
 "nbformat": 4,
 "nbformat_minor": 0
}
