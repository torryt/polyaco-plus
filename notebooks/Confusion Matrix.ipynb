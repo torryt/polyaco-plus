{
 "cells": [
  {
   "cell_type": "code",
   "execution_count": 9,
   "metadata": {
    "collapsed": false
   },
   "outputs": [],
   "source": [
    "import numpy as np\n",
    "import matplotlib.pyplot as plt\n",
    "\n",
    "from sklearn import svm, datasets\n",
    "from sklearn.cross_validation import train_test_split\n",
    "from sklearn.metrics import confusion_matrix\n",
    "\n",
    "import sys\n",
    "import os.path as osp\n",
    "import time\n",
    "sys.path.append(osp.dirname(osp.dirname(osp.abspath('__file__'))))\n",
    "\n",
    "import acoc\n",
    "import utils\n",
    "from utils import data_manager\n",
    "from config import CLASSIFIER_CONFIG"
   ]
  },
  {
   "cell_type": "code",
   "execution_count": 18,
   "metadata": {
    "collapsed": true
   },
   "outputs": [],
   "source": [
    "# import some data to play with\n",
    "iris = data_manager.load_data_set('digits')\n",
    "X = iris.data\n",
    "y = iris.target\n",
    "\n",
    "# Split the data into a training set and a test set\n",
    "X_train, X_test, y_train, y_test = train_test_split(X, y, random_state=0)\n",
    "\n",
    "class_indices = list(set(y))"
   ]
  },
  {
   "cell_type": "code",
   "execution_count": 19,
   "metadata": {
    "collapsed": false
   },
   "outputs": [
    {
     "name": "stdout",
     "output_type": "stream",
     "text": [
      "Classification score: 37.333333333333336\n"
     ]
    }
   ],
   "source": [
    "CLASSIFIER_CONFIG.max_level = 2\n",
    "CLASSIFIER_CONFIG.level_convergence_rate = 5\n",
    "\n",
    "clf = acoc.PolyACO(X.shape[1], class_indices, CLASSIFIER_CONFIG)\n",
    "clf.train(X_train, y_train)\n",
    "y_pred = clf.evaluate(X_test)\n",
    "print(\"\\rClassification score: {}\".format(acoc.compute_score(y_pred, y_test)))"
   ]
  },
  {
   "cell_type": "code",
   "execution_count": 20,
   "metadata": {
    "collapsed": false
   },
   "outputs": [
    {
     "name": "stdout",
     "output_type": "stream",
     "text": [
      "Confusion matrix, without normalization\n",
      "[[ 8  0  4  4 19  1  0  1  0  0]\n",
      " [ 0 14  0  9 14  0  5  1  0  0]\n",
      " [ 0  4 14  4 16  0  5  1  0  0]\n",
      " [ 0  2  0 34  6  0  0  3  0  0]\n",
      " [ 0  1  0  2 32  0  0  3  0  0]\n",
      " [ 0  0  0 12 21  1 10  2  2  0]\n",
      " [ 0  0  1 13  9  0 29  0  0  0]\n",
      " [ 0  1  0  2 11  0  0 34  0  0]\n",
      " [ 0  1  3 10 33  0  0  1  0  0]\n",
      " [ 0  0  0 15 27  0  3  0  0  2]]\n",
      "Normalized confusion matrix\n",
      "[[ 0.22  0.    0.11  0.11  0.51  0.03  0.    0.03  0.    0.  ]\n",
      " [ 0.    0.33  0.    0.21  0.33  0.    0.12  0.02  0.    0.  ]\n",
      " [ 0.    0.09  0.32  0.09  0.36  0.    0.11  0.02  0.    0.  ]\n",
      " [ 0.    0.04  0.    0.76  0.13  0.    0.    0.07  0.    0.  ]\n",
      " [ 0.    0.03  0.    0.05  0.84  0.    0.    0.08  0.    0.  ]\n",
      " [ 0.    0.    0.    0.25  0.44  0.02  0.21  0.04  0.04  0.  ]\n",
      " [ 0.    0.    0.02  0.25  0.17  0.    0.56  0.    0.    0.  ]\n",
      " [ 0.    0.02  0.    0.04  0.23  0.    0.    0.71  0.    0.  ]\n",
      " [ 0.    0.02  0.06  0.21  0.69  0.    0.    0.02  0.    0.  ]\n",
      " [ 0.    0.    0.    0.32  0.57  0.    0.06  0.    0.    0.04]]\n"
     ]
    }
   ],
   "source": [
    "def plot_confusion_matrix(cm, title='Confusion matrix', cmap=plt.cm.Blues):\n",
    "    plt.imshow(cm, interpolation='nearest', cmap=cmap)\n",
    "    plt.title(title)\n",
    "    plt.colorbar()\n",
    "    tick_marks = np.arange(len(iris.target_names))\n",
    "    plt.xticks(tick_marks, iris.target_names, rotation=45)\n",
    "    plt.yticks(tick_marks, iris.target_names)\n",
    "    plt.tight_layout()\n",
    "    plt.ylabel('True label')\n",
    "    plt.xlabel('Predicted label')\n",
    "\n",
    "\n",
    "# Compute confusion matrix\n",
    "cm = confusion_matrix(y_test, y_pred)\n",
    "np.set_printoptions(precision=2)\n",
    "print('Confusion matrix, without normalization')\n",
    "print(cm)\n",
    "plt.figure()\n",
    "plot_confusion_matrix(cm)\n",
    "\n",
    "# Normalize the confusion matrix by row (i.e by the number of samples\n",
    "# in each class)\n",
    "cm_normalized = cm.astype('float') / cm.sum(axis=1)[:, np.newaxis]\n",
    "print('Normalized confusion matrix')\n",
    "print(cm_normalized)\n",
    "plt.figure()\n",
    "plot_confusion_matrix(cm_normalized, title='Normalized confusion matrix')\n",
    "\n",
    "plt.show()"
   ]
  }
 ],
 "metadata": {
  "kernelspec": {
   "display_name": "Python 3",
   "language": "python",
   "name": "python3"
  },
  "language_info": {
   "codemirror_mode": {
    "name": "ipython",
    "version": 3
   },
   "file_extension": ".py",
   "mimetype": "text/x-python",
   "name": "python",
   "nbconvert_exporter": "python",
   "pygments_lexer": "ipython3",
   "version": "3.5.1"
  }
 },
 "nbformat": 4,
 "nbformat_minor": 0
}
