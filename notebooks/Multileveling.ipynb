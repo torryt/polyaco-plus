{
 "cells": [
  {
   "cell_type": "markdown",
   "metadata": {},
   "source": [
    "## Grid granularity tuning"
   ]
  },
  {
   "cell_type": "code",
   "execution_count": 1,
   "metadata": {
    "collapsed": false,
    "scrolled": false
   },
   "outputs": [
    {
     "name": "stderr",
     "output_type": "stream",
     "text": [
      "D:\\Program\\Anaconda3\\lib\\site-packages\\matplotlib\\__init__.py:1350: UserWarning:  This call to matplotlib.use() has no effect\n",
      "because the backend has already been chosen;\n",
      "matplotlib.use() must be called *before* pylab, matplotlib.pyplot,\n",
      "or matplotlib.backends is imported for the first time.\n",
      "\n",
      "  warnings.warn(_use_error_msg)\n"
     ]
    }
   ],
   "source": [
    "%matplotlib notebook\n",
    "import matplotlib\n",
    "import sys\n",
    "import os.path as osp\n",
    "sys.path.append(osp.dirname(osp.dirname(osp.abspath('__file__'))))\n",
    "import numpy as np\n",
    "import pickle\n",
    "from cycler import cycler\n",
    "from config import SAVE_DIR\n",
    "from matplotlib import pyplot as plt\n",
    "from acoc import acoc_plotter as plotter"
   ]
  },
  {
   "cell_type": "code",
   "execution_count": null,
   "metadata": {
    "collapsed": false
   },
   "outputs": [],
   "source": [
    "%matplotlib notebook\n",
    "import matplotlib\n",
    "import numpy as np\n",
    "import pickle\n",
    "import os.path as osp\n",
    "from cycler import cycler\n",
    "from config import SAVE_DIR\n",
    "from matplotlib import pyplot as plt\n",
    "from acoc import acoc_plotter as plotter\n",
    "\n",
    "data = pickle.load(open(osp.join('C:\\\\Users\\\\Guro\\\\Dropbox\\\\ACOC\\\\experiments', '02.19, multileveling server/results.pickle'), 'rb'))\n",
    "\n",
    "data = np.array(data)\n",
    "data = data.T[0:300].T\n",
    "x = range(data.shape[1])\n",
    "\n",
    "labels = [\n",
    "          'With multi-leveling', \n",
    "          r'$\\mu = 3$',\n",
    "          r'$\\mu = 5$', \n",
    "          r'$\\mu = 10$', \n",
    "          r'$\\mu = 15$',\n",
    "          r'$\\mu = 30$',\n",
    "          r'$\\mu = 60$'\n",
    "         ]\n",
    "fig, ax = plt.subplots()\n",
    "\n",
    "plotter.hide_top_and_right_axis(ax)\n",
    "ax.yaxis.grid(color='gray')\n",
    "ax.set_xlabel('Time (seconds)')\n",
    "ax.set_ylabel('Score of best polygon')\n",
    "ax.set_prop_cycle(cycler('color', ['c', 'm', 'y', 'k', 'r', 'g', 'b']))\n",
    "ax.set_ylim([0.80,0.96])\n",
    "\n",
    "for i in range(data.shape[0]):\n",
    "    plt.plot(x, data[i], label=labels[i])\n",
    "    \n",
    "#lgd = plt.legend(loc='upper center', bbox_to_anchor=(0.5, -0.05), ncol=4)\n",
    "lgd = plt.legend(labels, loc='center right', bbox_to_anchor=(1.1, 0.46))\n",
    "plt.show()"
   ]
  },
  {
   "cell_type": "code",
   "execution_count": null,
   "metadata": {
    "collapsed": false
   },
   "outputs": [],
   "source": [
    "np.amax(data, axis=1)"
   ]
  },
  {
   "cell_type": "code",
   "execution_count": null,
   "metadata": {
    "collapsed": false,
    "scrolled": false
   },
   "outputs": [],
   "source": [
    "nested_static = pickle.load(open(osp.join(SAVE_DIR, '02.24, multilevel med nest grid/results.pickle'), 'rb'))\n",
    "data = pickle.load(open(osp.join(SAVE_DIR, '02.24, multilevel med nest grid/run2/results.pickle'), 'rb'))\n",
    "\n",
    "data = np.concatenate((np.array(data), np.array(nested_static)[1:3]))\n",
    "x = range(data.shape[1])\n",
    "\n",
    "labels = [\n",
    "          'Dynamic nested',\n",
    "          'Naive multi-level',\n",
    "          'Static nested',\n",
    "          r'$\\mu = 17$'\n",
    "         ]\n",
    "fig, ax = plt.subplots()\n",
    "\n",
    "plotter.hide_top_and_right_axis(ax)\n",
    "fig.suptitle(\"Multi-level comparison\")\n",
    "ax.yaxis.grid(color='gray')\n",
    "ax.set_xlabel('Time (seconds)')\n",
    "ax.set_ylabel('Score of best polygon')\n",
    "ax.set_prop_cycle(cycler('color', ['r', 'g', 'b', 'k']))\n",
    "\n",
    "ax.set_ylim([0.91,0.98])\n",
    "\n",
    "for i in range(data.shape[0]):\n",
    "    plt.plot(x, data[i], label=labels[i])\n",
    "    \n",
    "lgd = plt.legend(labels, loc='lower right')\n",
    "plt.show()"
   ]
  },
  {
   "cell_type": "code",
   "execution_count": null,
   "metadata": {
    "collapsed": false
   },
   "outputs": [],
   "source": [
    "print(\"Final max values: {}\".format(np.amax(data, axis=1)))\n",
    "seconds = 20\n",
    "print(\"Scores after {} seconds: {}\".format(seconds, data[:,seconds]))"
   ]
  }
 ],
 "metadata": {
  "kernelspec": {
   "display_name": "Python 3",
   "language": "python",
   "name": "python3"
  },
  "language_info": {
   "codemirror_mode": {
    "name": "ipython",
    "version": 3
   },
   "file_extension": ".py",
   "mimetype": "text/x-python",
   "name": "python",
   "nbconvert_exporter": "python",
   "pygments_lexer": "ipython3",
   "version": "3.5.1"
  }
 },
 "nbformat": 4,
 "nbformat_minor": 0
}
